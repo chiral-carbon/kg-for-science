{
 "cells": [
  {
   "cell_type": "code",
   "execution_count": 1,
   "metadata": {},
   "outputs": [],
   "source": [
    "import json\n",
    "import os\n"
   ]
  },
  {
   "cell_type": "code",
   "execution_count": 3,
   "metadata": {},
   "outputs": [],
   "source": [
    "path = '/mnt/home/adas1/projects/knowledge-graph/kg-for-science/results/new_random_json_NPhqPpXy_20240716_040707/predictions.json'\n",
    "data = None\n",
    "with open(path) as f:\n",
    "    data = json.load(f)"
   ]
  },
  {
   "cell_type": "code",
   "execution_count": 5,
   "metadata": {},
   "outputs": [
    {
     "data": {
      "text/plain": [
       "18136"
      ]
     },
     "execution_count": 5,
     "metadata": {},
     "output_type": "execute_result"
    }
   ],
   "source": [
    "len(data[\"predicted_tags\"])"
   ]
  },
  {
   "cell_type": "code",
   "execution_count": 6,
   "metadata": {},
   "outputs": [
    {
     "data": {
      "text/plain": [
       "[{'object': ['coronal mass ejections', 'magnetic flux ropes'],\n",
       "  'property': ['morphology', 'toroidal flux']},\n",
       " {'object': ['coronal mass ejections (CMEs)',\n",
       "   'Sun',\n",
       "   'heliospheric environment'],\n",
       "  'property': ['intense', 'magnetized']},\n",
       " {'object': ['CMEs', 'progenitors', 'solar source regions'],\n",
       "  'property': ['properties'],\n",
       "  'field': ['space weather forecasting']},\n",
       " {'task': ['establish a connection'],\n",
       "  'object': ['CMEs',\n",
       "   'progenitors',\n",
       "   'solar source regions',\n",
       "   'magnetic structures']},\n",
       " {'dataset': ['dataset'],\n",
       "  'object': ['magnetic flux rope'],\n",
       "  'instrument': ['Regularized Biot-Savart Laws (RBSL)'],\n",
       "  'property': ['projection shapes', 'sizes', 'toroidal fluxes']},\n",
       " {'model': ['global coronal MHD model'],\n",
       "  'object': ['flux ropes', 'solar surface'],\n",
       "  'instrument': ['COCONUT']},\n",
       " {'object': ['source flux ropes', 'CMEs']},\n",
       " {'object': ['CMEs'],\n",
       "  'property': ['projection shape',\n",
       "   'magnetic structures',\n",
       "   'propagation speed']},\n",
       " {'property': ['fat'], 'object': ['flux ropes', 'source']},\n",
       " {'object': ['toroidal flux', 'CMEs'],\n",
       "  'property': ['propagation speed', 'successfulness']}]"
      ]
     },
     "execution_count": 6,
     "metadata": {},
     "output_type": "execute_result"
    }
   ],
   "source": [
    "data[\"predicted_tags\"][:10]"
   ]
  },
  {
   "cell_type": "code",
   "execution_count": null,
   "metadata": {},
   "outputs": [],
   "source": []
  },
  {
   "cell_type": "code",
   "execution_count": null,
   "metadata": {},
   "outputs": [],
   "source": []
  },
  {
   "cell_type": "code",
   "execution_count": null,
   "metadata": {},
   "outputs": [],
   "source": []
  }
 ],
 "metadata": {
  "kernelspec": {
   "display_name": "mykernel",
   "language": "python",
   "name": "mykernel"
  },
  "language_info": {
   "codemirror_mode": {
    "name": "ipython",
    "version": 3
   },
   "file_extension": ".py",
   "mimetype": "text/x-python",
   "name": "python",
   "nbconvert_exporter": "python",
   "pygments_lexer": "ipython3",
   "version": "3.11.9"
  }
 },
 "nbformat": 4,
 "nbformat_minor": 2
}
